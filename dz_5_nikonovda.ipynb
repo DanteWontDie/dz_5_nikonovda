{
 "cells": [
  {
   "cell_type": "markdown",
   "id": "810bbf2f-6545-41e9-97a2-69e4bbe70036",
   "metadata": {},
   "source": [
    "Тема 5. Время и даты в Python"
   ]
  },
  {
   "cell_type": "markdown",
   "id": "89edcd55-f8fc-46eb-9c28-6643c605739b",
   "metadata": {},
   "source": [
    "Задание 1.\n",
    "Печатные газеты использовали свой формат дат для каждого выпуска. Для каждой\n",
    "газеты из списка напишите формат указанной даты для перевода в объект datetime:\n",
    "The Moscow Times - Wednesday, October 2, 2002\n",
    "The Guardian - Friday, 11.10.13\n",
    "Daily News - Thursday, 18 August 1977\n",
    "Пример работы программы\n",
    "Программа должна выводить на экран объекты типа datetime, соответствующие датам\n",
    "в условии задачи"
   ]
  },
  {
   "cell_type": "code",
   "execution_count": 22,
   "id": "e8e3eac0-1720-4d49-a75b-0091c6270a38",
   "metadata": {},
   "outputs": [
    {
     "name": "stdout",
     "output_type": "stream",
     "text": [
      "The Moscow Times: 2002-10-02\n",
      "The Guardian: 2013-10-11\n",
      "Daily News: 1977-08-18\n"
     ]
    }
   ],
   "source": [
    "from datetime import datetime # импортируем либру для работы с датами\n",
    "\n",
    "dates = {\n",
    "    \"The Moscow Times\": \"Wednesday, October 2, 2002\",\n",
    "    \"The Guardian\": \"Friday, 11.10.13\",\n",
    "    \"Daily News\": \"Thursday, 18 August 1977\"\n",
    "} # Исходные данные\n",
    "\n",
    "formats = {\n",
    "    \"The Moscow Times\": \"%A, %B %d, %Y\",\n",
    "    \"The Guardian\": \"%A, %d.%m.%y\",\n",
    "    \"Daily News\": \"%A, %d %B %Y\"\n",
    "} # Форматы для каждой даты газеты\n",
    "\n",
    "# Преобразование строк в объекты datetime\n",
    "for newspaper, date_str in dates.items():\n",
    "    date_obj = datetime.strptime(date_str, formats[newspaper]).date()  # Используем .date() для получения только даты\n",
    "    print(f\"{newspaper}: {date_obj}\")"
   ]
  },
  {
   "cell_type": "markdown",
   "id": "a01f3316-5123-4a20-ab5a-c6d173ca6962",
   "metadata": {},
   "source": [
    "Задание 2.\n",
    "Напишите функцию date_range, которая возвращает список дат за период от start_date\n",
    "до end_date. Даты должны вводиться в формате YYYY-MM-DD. В случае неверного\n",
    "формата или при start_date > end_date должен возвращаться пустой список.\n",
    "Примеры работы программы:\n",
    "date_range(‘2022-01-01’, ‘2022-01-03’)\n",
    "[‘2022-01-01’, ‘2022-01-02’, ‘2022-01-03’]"
   ]
  },
  {
   "cell_type": "code",
   "execution_count": 41,
   "id": "945355fb-c1ab-429b-8925-6511f2e0b20b",
   "metadata": {},
   "outputs": [
    {
     "name": "stdout",
     "output_type": "stream",
     "text": [
      "['2025-01-01', '2025-01-02', '2025-01-03', '2025-01-04', '2025-01-05', '2025-01-06', '2025-01-07', '2025-01-08', '2025-01-09', '2025-01-10', '2025-01-11', '2025-01-12', '2025-01-13']\n"
     ]
    }
   ],
   "source": [
    "from datetime import datetime, timedelta # импортируем либру для работы с датами и либру для вычисления разниц\n",
    "\n",
    "def date_range(start_date, end_date):\n",
    "    # Проверка формата и преобразование строк в объекты datetime\n",
    "    try:\n",
    "        start = datetime.strptime(start_date, \"%Y-%m-%d\")\n",
    "        end = datetime.strptime(end_date, \"%Y-%m-%d\")\n",
    "    except ValueError:\n",
    "        return []  # Возвращаем пустой список при неверном формате\n",
    "\n",
    "    # Проверка, что start_date не больше end_date\n",
    "    if start > end:\n",
    "        return print(\"Поменяйте даты местамиЁ!\")\n",
    "\n",
    "    # Генерация списка дат\n",
    "    date_list = []\n",
    "    current_date = start\n",
    "    while current_date <= end:\n",
    "        date_list.append(current_date.strftime(\"%Y-%m-%d\"))\n",
    "        current_date += timedelta(days=1)\n",
    "\n",
    "    return date_list\n",
    "\n",
    "# Пример использования\n",
    "print(date_range('2025-01-01', '2025-01-13'))"
   ]
  },
  {
   "cell_type": "code",
   "execution_count": null,
   "id": "adccfa89-2be5-4f4e-b750-3796f7c67541",
   "metadata": {},
   "outputs": [],
   "source": []
  }
 ],
 "metadata": {
  "kernelspec": {
   "display_name": "Python 3 (ipykernel)",
   "language": "python",
   "name": "python3"
  },
  "language_info": {
   "codemirror_mode": {
    "name": "ipython",
    "version": 3
   },
   "file_extension": ".py",
   "mimetype": "text/x-python",
   "name": "python",
   "nbconvert_exporter": "python",
   "pygments_lexer": "ipython3",
   "version": "3.12.7"
  }
 },
 "nbformat": 4,
 "nbformat_minor": 5
}
